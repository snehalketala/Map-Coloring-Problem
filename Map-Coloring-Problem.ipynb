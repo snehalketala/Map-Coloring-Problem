{
 "cells": [
  {
   "cell_type": "code",
   "execution_count": 2,
   "id": "f0039808",
   "metadata": {},
   "outputs": [
    {
     "name": "stdout",
     "output_type": "stream",
     "text": [
      "Solution Exists: Following are the assigned colors \n",
      "1 2 3 2 "
     ]
    }
   ],
   "source": [
    "\n",
    "def isSafe(graph, color):\n",
    "\n",
    "\n",
    "\tfor i in range(4):\n",
    "\t\tfor j in range(i + 1, 4):\n",
    "\t\t\tif (graph[i][j] and color[j] == color[i]):\n",
    "\t\t\t\treturn False\n",
    "\treturn True\n",
    "\n",
    "def graphColoring(graph, m, i, color):\n",
    "\n",
    "\n",
    "\tif (i == 4):\n",
    "\n",
    "\n",
    "\t\tif (isSafe(graph, color)):\n",
    "\n",
    "\n",
    "\t\t\tprintSolution(color)\n",
    "\t\t\treturn True\n",
    "\t\treturn False\n",
    "\n",
    "\n",
    "\tfor j in range(1, m + 1):\n",
    "\t\tcolor[i] = j\n",
    "\n",
    "\t\tif (graphColoring(graph, m, i + 1, color)):\n",
    "\t\t\treturn True\n",
    "\t\tcolor[i] = 0\n",
    "\treturn False\n",
    "\n",
    "def printSolution(color):\n",
    "\tprint(\"Solution Exists:\" \" Following are the assigned colors \")\n",
    "\tfor i in range(4):\n",
    "\t\tprint(color[i],end=\" \")\n",
    "\n",
    "if __name__ == '__main__':\n",
    "\n",
    "\tgraph = [\n",
    "\t\t[ 0, 1, 1, 1 ],\n",
    "\t\t[ 1, 0, 1, 0 ],\n",
    "\t\t[ 1, 1, 0, 1 ],\n",
    "\t\t[ 1, 0, 1, 0 ],\n",
    "\t]\n",
    "\tm = 3 \n",
    "\tcolor = [0 for i in range(4)]\n",
    "\n",
    "\tif (not graphColoring(graph, m, 0, color)):\n",
    "\t\tprint (\"Solution does not exist\")"
   ]
  },
  {
   "cell_type": "code",
   "execution_count": null,
   "id": "49ea6da0",
   "metadata": {},
   "outputs": [],
   "source": []
  }
 ],
 "metadata": {
  "kernelspec": {
   "display_name": "Python 3",
   "language": "python",
   "name": "python3"
  },
  "language_info": {
   "codemirror_mode": {
    "name": "ipython",
    "version": 3
   },
   "file_extension": ".py",
   "mimetype": "text/x-python",
   "name": "python",
   "nbconvert_exporter": "python",
   "pygments_lexer": "ipython3",
   "version": "3.8.8"
  }
 },
 "nbformat": 4,
 "nbformat_minor": 5
}
